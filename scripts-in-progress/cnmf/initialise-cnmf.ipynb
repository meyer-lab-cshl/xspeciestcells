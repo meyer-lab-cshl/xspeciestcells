{
 "cells": [
  {
   "cell_type": "code",
   "execution_count": null,
   "id": "c9dff9f6-a665-4ca7-a54e-40f1cc4070b4",
   "metadata": {},
   "outputs": [],
   "source": [
    "%matplotlib inline\n",
    "\n",
    "import os\n",
    "import pandas as pd\n",
    "import numpy as np\n",
    "from scipy.io import mmread\n",
    "import scipy.sparse as sp\n",
    "import matplotlib.pyplot as plt\n",
    "from IPython.display import Image\n",
    "import scanpy as sc\n",
    "from cnmf import cNMF, Preprocess\n",
    "import seaborn as sns\n",
    "import anndata as ad\n",
    "    \n",
    "np.random.seed(14)"
   ]
  },
  {
   "cell_type": "markdown",
   "id": "486b2099-c78e-4e51-bcb4-3574c3dd806f",
   "metadata": {},
   "source": [
    "# Set up cnmf\n",
    "Do dummy initialisation of cnmf to deal with anndata problem; use tmp file generated as template for anndata and save for proper run"
   ]
  },
  {
   "cell_type": "code",
   "execution_count": null,
   "id": "a823090e-acc3-424f-8e54-1a17b28ef60d",
   "metadata": {},
   "outputs": [],
   "source": [
    "cnmf_obj = cNMF(output_dir='data/cnmf', name='NoBatchCorrection')\n",
    "cnmf_obj.prepare(counts_fn='data/raw_data/human_data/seurat_filtered_harmony_08_28_23_counts.txt', components=[12], n_iter=100, seed=14)"
   ]
  },
  {
   "cell_type": "code",
   "execution_count": null,
   "id": "eba85338-1631-4a8f-b710-df8f6b701640",
   "metadata": {},
   "outputs": [],
   "source": [
    "adata = sc.read('data/cnmf/NoBatchCorrection/NoBatchCorrection.tpm.h5ad')\n",
    "obs_meta = pd.read_csv(\"data/raw_data/human_data/seurat_filtered_harmony_08_28_23_metadata.csv\", index_col=0)\n",
    "adata = ad.AnnData(adata.X, obs=obs_meta, var=adata.var)\n",
    "adata.write('data/raw_data/human_data/seurat_filtered_harmony_08_28_23.h5ad', compression=\"gzip\")"
   ]
  }
 ],
 "metadata": {
  "kernelspec": {
   "display_name": "Python 3 (ipykernel)",
   "language": "python",
   "name": "python3"
  },
  "language_info": {
   "codemirror_mode": {
    "name": "ipython",
    "version": 3
   },
   "file_extension": ".py",
   "mimetype": "text/x-python",
   "name": "python",
   "nbconvert_exporter": "python",
   "pygments_lexer": "ipython3",
   "version": "3.7.16"
  }
 },
 "nbformat": 4,
 "nbformat_minor": 5
}
