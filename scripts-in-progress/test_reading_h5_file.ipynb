{
 "cells": [
  {
   "cell_type": "code",
   "execution_count": 1,
   "metadata": {},
   "outputs": [],
   "source": [
    "import scanpy as sc\n",
    "import anndata\n",
    "import pandas as pd\n",
    "import matplotlib.pyplot as plt\n",
    "import matplotlib as mpl\n",
    "import numpy as np\n",
    "import seaborn as sns"
   ]
  },
  {
   "cell_type": "code",
   "execution_count": 6,
   "metadata": {},
   "outputs": [
    {
     "name": "stderr",
     "output_type": "stream",
     "text": [
      "/var/folders/_4/7hcpk_8n3pdg49rp2nqd6g1c0000gp/T/ipykernel_16737/916356490.py:2: DtypeWarning: Columns (14) have mixed types. Specify dtype option on import or set low_memory=False.\n",
      "  adata.obs = pd.read_csv(\"../data/clean_data/metadata_human_integrated_object_23_12_01.csv\")\n"
     ]
    }
   ],
   "source": [
    "adata = sc.read_10x_h5(\"../data/clean_data/rawcounts_human_integrated_object_23_12_01.h5\")\n",
    "adata.obs = pd.read_csv(\"../data/clean_data/metadata_human_integrated_object_23_12_01.csv\")"
   ]
  },
  {
   "cell_type": "code",
   "execution_count": 7,
   "metadata": {},
   "outputs": [
    {
     "data": {
      "text/plain": [
       "AnnData object with n_obs × n_vars = 78355 × 17204\n",
       "    obs: 'nCount_RNA', 'nFeature_RNA', 'percent_mitochondrial', 'tcell_lineage', 'tcell_lineage_tissue', 'donor_sex', 'donor_age_weeks', 'donor_age', 'donor_id', 'batch_id', 'sequencing_method', 'tissue', 'clusters_integrated_data', 'clusters_per_lineage', 'tcr_usage_simplified', 'score_effector', 'score_naive', 'score_egress', 'score_cd8aa', 'GEP1_usage', 'GEP2_usage', 'GEP3_usage', 'GEP4_usage', 'GEP5_usage', 'GEP6_usage', 'GEP7_usage', 'GEP8_usage', 'GEP9_usage', 'GEP10_usage', 'GEP11_usage', 'GEP_with_max_usage'\n",
       "    var: 'gene_ids'"
      ]
     },
     "execution_count": 7,
     "metadata": {},
     "output_type": "execute_result"
    }
   ],
   "source": [
    "adata"
   ]
  }
 ],
 "metadata": {
  "kernelspec": {
   "display_name": "humanthymusproj",
   "language": "python",
   "name": "python3"
  },
  "language_info": {
   "codemirror_mode": {
    "name": "ipython",
    "version": 3
   },
   "file_extension": ".py",
   "mimetype": "text/x-python",
   "name": "python",
   "nbconvert_exporter": "python",
   "pygments_lexer": "ipython3",
   "version": "3.11.4"
  }
 },
 "nbformat": 4,
 "nbformat_minor": 2
}
